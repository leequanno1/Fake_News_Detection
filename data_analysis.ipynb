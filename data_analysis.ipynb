{
 "cells": [
  {
   "cell_type": "code",
   "execution_count": 1,
   "id": "50dc447d",
   "metadata": {},
   "outputs": [],
   "source": [
    "import pandas as pd\n",
    "\n",
    "# Đọc lại dữ liệu đã làm sạch\n",
    "df = pd.read_csv('merged_cleaned_dataset.csv')\n"
   ]
  },
  {
   "cell_type": "code",
   "execution_count": 2,
   "id": "050cd72d",
   "metadata": {},
   "outputs": [
    {
     "name": "stdout",
     "output_type": "stream",
     "text": [
      "Tổng số dòng: 33979\n",
      "\n",
      "Số dòng theo nhãn (label):\n",
      "label\n",
      "1    24022\n",
      "0     9957\n",
      "Name: count, dtype: int64\n"
     ]
    }
   ],
   "source": [
    "print(\"Tổng số dòng:\", len(df))\n",
    "\n",
    "# Thống kê số dòng theo nhãn\n",
    "print(\"\\nSố dòng theo nhãn (label):\")\n",
    "print(df['label'].value_counts())"
   ]
  },
  {
   "cell_type": "code",
   "execution_count": 3,
   "id": "503f1193",
   "metadata": {},
   "outputs": [
    {
     "name": "stdout",
     "output_type": "stream",
     "text": [
      "\n",
      "Số giá trị thiếu theo cột:\n",
      "title      0\n",
      "content    0\n",
      "label      0\n",
      "dtype: int64\n"
     ]
    }
   ],
   "source": [
    "# Kiểm tra số lượng giá trị thiếu (NaN)\n",
    "print(\"\\nSố giá trị thiếu theo cột:\")\n",
    "print(df.isnull().sum())"
   ]
  },
  {
   "cell_type": "code",
   "execution_count": 4,
   "id": "86da7d98",
   "metadata": {},
   "outputs": [
    {
     "name": "stdout",
     "output_type": "stream",
     "text": [
      "\n",
      "Độ dài trung bình:\n",
      "Tiêu đề (title): 8.400276641455017 từ\n",
      "Nội dung (content): 436.2801730480591 từ\n"
     ]
    }
   ],
   "source": [
    "# Thống kê độ dài trung bình (tính theo số từ)\n",
    "df['title_word_count'] = df['title'].astype(str).apply(lambda x: len(x.split()))\n",
    "df['content_word_count'] = df['content'].astype(str).apply(lambda x: len(x.split()))\n",
    "\n",
    "print(\"\\nĐộ dài trung bình:\")\n",
    "print(\"Tiêu đề (title):\", df['title_word_count'].mean(), \"từ\")\n",
    "print(\"Nội dung (content):\", df['content_word_count'].mean(), \"từ\")"
   ]
  },
  {
   "cell_type": "code",
   "execution_count": 5,
   "id": "9355728c",
   "metadata": {},
   "outputs": [
    {
     "name": "stdout",
     "output_type": "stream",
     "text": [
      "\n",
      "📄 Một vài dòng đầu:\n",
      "                                               title  \\\n",
      "0         Tạm dừng kỳ họp bầu chủ_tịch huyện Đắk Lắk   \n",
      "1  Tổng_Bí_thư đề_nghị doanh_nghiệp Mỹ mở_rộng đầ...   \n",
      "2  Thủ_tướng : Hoàn_thành cao_tốc Châu_Đốc Cần_Th...   \n",
      "3  Đoàn Kiểm_tra Bộ_Chính_trị làm_việc Ban Thường...   \n",
      "4  Bộ_trưởng Đào_Ngọc_Dung : Tuyên_Quang xóa tạm ...   \n",
      "\n",
      "                                             content  label  \n",
      "0  183 , Huỳnh_Sơn , Phó Chủ_tịch HĐND huyện Ea_H...      1  \n",
      "1  Tổng_Bí_thư Tô_Lâm_hoan_nghênh đoàn doanh_nghi...      1  \n",
      "2  Dự_án đầu_tư xây_dựng đường_cao_tốc Châu_Đốc C...      1  \n",
      "3  183 , đoàn kiểm_tra 1913 Bộ_Chính_trị , Ban_Bí...      1  \n",
      "4  183 , làm_việc Đoàn công_tác Quốc_hội Tỉnh_ủy ...      1  \n"
     ]
    }
   ],
   "source": [
    "# Xem 5 dòng đầu tiên\n",
    "print(\"\\n📄 Một vài dòng đầu:\")\n",
    "print(df[['title', 'content', 'label']].head())"
   ]
  }
 ],
 "metadata": {
  "kernelspec": {
   "display_name": "Python 3",
   "language": "python",
   "name": "python3"
  },
  "language_info": {
   "codemirror_mode": {
    "name": "ipython",
    "version": 3
   },
   "file_extension": ".py",
   "mimetype": "text/x-python",
   "name": "python",
   "nbconvert_exporter": "python",
   "pygments_lexer": "ipython3",
   "version": "3.10.11"
  }
 },
 "nbformat": 4,
 "nbformat_minor": 5
}
