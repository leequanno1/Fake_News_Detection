{
 "cells": [
  {
   "cell_type": "code",
   "execution_count": 1,
   "id": "b3234580",
   "metadata": {},
   "outputs": [
    {
     "name": "stdout",
     "output_type": "stream",
     "text": [
      "Hoàn tất! Dataset đã được làm sạch và lưu vào 'merged_cleaned_dataset.csv'\n"
     ]
    }
   ],
   "source": [
    "import pandas as pd\n",
    "import re\n",
    "from underthesea import word_tokenize\n",
    "\n",
    "def clean_special_characters(text):\n",
    "    return re.sub(r'[<>/\\[\\]_\\\\\\*\\&\\^\\#\\`\\~\\-]', '', text)\n",
    "\n",
    "# Đọc hai file\n",
    "df_true = pd.read_csv('real.csv')\n",
    "df_fake = pd.read_csv('fake.csv')\n",
    "\n",
    "# Nối 2 dataframe\n",
    "df = pd.concat([df_true, df_fake], ignore_index=True)\n",
    "\n",
    "# Loại bỏ cột 'source' nếu tồn tại\n",
    "if 'source' in df.columns:\n",
    "    df = df.drop(columns=['source'])\n",
    "\n",
    "# Loại bỏ các dòng có giá trị thiếu\n",
    "df = df.dropna()\n",
    "\n",
    "df['title'] = df['title'].astype(str).str.strip()\n",
    "df['content'] = df['content'].astype(str).str.strip()\n",
    "\n",
    "df['title'] = df['title'].apply(clean_special_characters)\n",
    "df['content'] = df['content'].apply(clean_special_characters)\n",
    "\n",
    "\n",
    "# Chuẩn hóa cột label về chữ thường\n",
    "df['label'] = df['label'].astype(str).str.lower()\n",
    "\n",
    "# Chuyển thành nhãn nhị phân: true -> 1, false -> 0\n",
    "df['label'] = df['label'].map({'true': 1, 'false': 0})\n",
    "\n",
    "# (Tùy chọn) kiểm tra các giá trị không hợp lệ còn lại (nếu có)\n",
    "invalid_labels = df[df['label'].isna()]\n",
    "if not invalid_labels.empty:\n",
    "    print(\"Cảnh báo: Có nhãn không hợp lệ:\")\n",
    "    print(invalid_labels['label'].unique())\n",
    "\n",
    "df = df.dropna(subset=['title','content'])\n",
    "df = df[df['content'].str.strip() != '']\n",
    "df = df[df['title'].str.strip() != '']\n",
    "\n",
    "# Xử lý stop word\n",
    "with open(\"./stop_word/vietnamese-stopwords.txt\", \"r\", encoding=\"utf-8\") as f:\n",
    "    stopwords = set(line.strip() for line in f.readlines())\n",
    "    \n",
    "def preprocess(text):\n",
    "    # Tách từ và giữ lại dạng có dấu gạch dưới\n",
    "    tokens = word_tokenize(text, format=\"text\").split()\n",
    "    # Loại bỏ stopword\n",
    "    filtered = [word for word in tokens if word.lower() not in stopwords]\n",
    "    return \" \".join(filtered)\n",
    "\n",
    "df['title'] = df['title'].apply(preprocess)\n",
    "df['content'] = df['content'].apply(preprocess)\n",
    "\n",
    "# Xuất ra file CSV\n",
    "df.to_csv('merged_cleaned_dataset.csv', index=False)\n",
    "\n",
    "print(\"Hoàn tất! Dataset đã được làm sạch và lưu vào 'merged_cleaned_dataset.csv'\")\n"
   ]
  }
 ],
 "metadata": {
  "kernelspec": {
   "display_name": "Python 3",
   "language": "python",
   "name": "python3"
  },
  "language_info": {
   "codemirror_mode": {
    "name": "ipython",
    "version": 3
   },
   "file_extension": ".py",
   "mimetype": "text/x-python",
   "name": "python",
   "nbconvert_exporter": "python",
   "pygments_lexer": "ipython3",
   "version": "3.10.11"
  }
 },
 "nbformat": 4,
 "nbformat_minor": 5
}
