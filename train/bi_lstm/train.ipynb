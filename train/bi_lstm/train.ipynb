{
 "cells": [
  {
   "cell_type": "code",
   "execution_count": 1,
   "id": "ed1f6ba7",
   "metadata": {},
   "outputs": [],
   "source": [
    "import pandas as pd\n",
    "\n",
    "# Đọc dữ liệu từ file CSV\n",
    "df = pd.read_csv('../../merged_cleaned_dataset.csv')\n",
    "\n",
    "# Đảm bảo không có NaN\n",
    "df = df.dropna(subset=['title', 'content', 'label'])\n",
    "\n",
    "# Tách thành danh sách\n",
    "title_list = df['title'].astype(str).tolist()\n",
    "content_list = df['content'].astype(str).tolist()\n",
    "labels = df['label'].astype(int).tolist()  # hoặc float nếu cần\n"
   ]
  },
  {
   "cell_type": "code",
   "execution_count": 2,
   "id": "7a26f228",
   "metadata": {},
   "outputs": [],
   "source": [
    "import numpy as np\n",
    "from tensorflow.keras.preprocessing.text import Tokenizer\n",
    "from tensorflow.keras.preprocessing.sequence import pad_sequences\n",
    "from sklearn.model_selection import train_test_split\n",
    "\n",
    "# Giới hạn số lượng từ\n",
    "vocab_size = 10000\n",
    "max_len_title = 30\n",
    "max_len_content = 500\n",
    "\n",
    "tokenizer = Tokenizer(num_words=vocab_size)\n",
    "tokenizer.fit_on_texts(title_list + content_list)\n",
    "\n",
    "# Chuyển thành chuỗi số\n",
    "X_title = tokenizer.texts_to_sequences(title_list)\n",
    "X_content = tokenizer.texts_to_sequences(content_list)\n",
    "\n",
    "X_title = pad_sequences(X_title, maxlen=max_len_title)\n",
    "X_content = pad_sequences(X_content, maxlen=max_len_content)\n",
    "\n",
    "y = np.array(labels)\n",
    "\n",
    "# Tách train/val\n",
    "X_title_train, X_title_val, X_content_train, X_content_val, y_train, y_val = train_test_split(\n",
    "    X_title, X_content, y, test_size=0.2, random_state=42)\n"
   ]
  },
  {
   "cell_type": "code",
   "execution_count": 3,
   "id": "f574038e",
   "metadata": {},
   "outputs": [
    {
     "data": {
      "text/html": [
       "<pre style=\"white-space:pre;overflow-x:auto;line-height:normal;font-family:Menlo,'DejaVu Sans Mono',consolas,'Courier New',monospace\"><span style=\"font-weight: bold\">Model: \"functional\"</span>\n",
       "</pre>\n"
      ],
      "text/plain": [
       "\u001b[1mModel: \"functional\"\u001b[0m\n"
      ]
     },
     "metadata": {},
     "output_type": "display_data"
    },
    {
     "data": {
      "text/html": [
       "<pre style=\"white-space:pre;overflow-x:auto;line-height:normal;font-family:Menlo,'DejaVu Sans Mono',consolas,'Courier New',monospace\">┏━━━━━━━━━━━━━━━━━━━━━┳━━━━━━━━━━━━━━━━━━━┳━━━━━━━━━━━━┳━━━━━━━━━━━━━━━━━━━┓\n",
       "┃<span style=\"font-weight: bold\"> Layer (type)        </span>┃<span style=\"font-weight: bold\"> Output Shape      </span>┃<span style=\"font-weight: bold\">    Param # </span>┃<span style=\"font-weight: bold\"> Connected to      </span>┃\n",
       "┡━━━━━━━━━━━━━━━━━━━━━╇━━━━━━━━━━━━━━━━━━━╇━━━━━━━━━━━━╇━━━━━━━━━━━━━━━━━━━┩\n",
       "│ input_layer         │ (<span style=\"color: #00d7ff; text-decoration-color: #00d7ff\">None</span>, <span style=\"color: #00af00; text-decoration-color: #00af00\">30</span>)        │          <span style=\"color: #00af00; text-decoration-color: #00af00\">0</span> │ -                 │\n",
       "│ (<span style=\"color: #0087ff; text-decoration-color: #0087ff\">InputLayer</span>)        │                   │            │                   │\n",
       "├─────────────────────┼───────────────────┼────────────┼───────────────────┤\n",
       "│ input_layer_1       │ (<span style=\"color: #00d7ff; text-decoration-color: #00d7ff\">None</span>, <span style=\"color: #00af00; text-decoration-color: #00af00\">500</span>)       │          <span style=\"color: #00af00; text-decoration-color: #00af00\">0</span> │ -                 │\n",
       "│ (<span style=\"color: #0087ff; text-decoration-color: #0087ff\">InputLayer</span>)        │                   │            │                   │\n",
       "├─────────────────────┼───────────────────┼────────────┼───────────────────┤\n",
       "│ embedding           │ (<span style=\"color: #00d7ff; text-decoration-color: #00d7ff\">None</span>, <span style=\"color: #00af00; text-decoration-color: #00af00\">30</span>, <span style=\"color: #00af00; text-decoration-color: #00af00\">100</span>)   │  <span style=\"color: #00af00; text-decoration-color: #00af00\">1,000,000</span> │ input_layer[<span style=\"color: #00af00; text-decoration-color: #00af00\">0</span>][<span style=\"color: #00af00; text-decoration-color: #00af00\">0</span>] │\n",
       "│ (<span style=\"color: #0087ff; text-decoration-color: #0087ff\">Embedding</span>)         │                   │            │                   │\n",
       "├─────────────────────┼───────────────────┼────────────┼───────────────────┤\n",
       "│ embedding_1         │ (<span style=\"color: #00d7ff; text-decoration-color: #00d7ff\">None</span>, <span style=\"color: #00af00; text-decoration-color: #00af00\">500</span>, <span style=\"color: #00af00; text-decoration-color: #00af00\">100</span>)  │  <span style=\"color: #00af00; text-decoration-color: #00af00\">1,000,000</span> │ input_layer_1[<span style=\"color: #00af00; text-decoration-color: #00af00\">0</span>]… │\n",
       "│ (<span style=\"color: #0087ff; text-decoration-color: #0087ff\">Embedding</span>)         │                   │            │                   │\n",
       "├─────────────────────┼───────────────────┼────────────┼───────────────────┤\n",
       "│ bidirectional       │ (<span style=\"color: #00d7ff; text-decoration-color: #00d7ff\">None</span>, <span style=\"color: #00af00; text-decoration-color: #00af00\">128</span>)       │     <span style=\"color: #00af00; text-decoration-color: #00af00\">84,480</span> │ embedding[<span style=\"color: #00af00; text-decoration-color: #00af00\">0</span>][<span style=\"color: #00af00; text-decoration-color: #00af00\">0</span>]   │\n",
       "│ (<span style=\"color: #0087ff; text-decoration-color: #0087ff\">Bidirectional</span>)     │                   │            │                   │\n",
       "├─────────────────────┼───────────────────┼────────────┼───────────────────┤\n",
       "│ bidirectional_1     │ (<span style=\"color: #00d7ff; text-decoration-color: #00d7ff\">None</span>, <span style=\"color: #00af00; text-decoration-color: #00af00\">256</span>)       │    <span style=\"color: #00af00; text-decoration-color: #00af00\">234,496</span> │ embedding_1[<span style=\"color: #00af00; text-decoration-color: #00af00\">0</span>][<span style=\"color: #00af00; text-decoration-color: #00af00\">0</span>] │\n",
       "│ (<span style=\"color: #0087ff; text-decoration-color: #0087ff\">Bidirectional</span>)     │                   │            │                   │\n",
       "├─────────────────────┼───────────────────┼────────────┼───────────────────┤\n",
       "│ concatenate         │ (<span style=\"color: #00d7ff; text-decoration-color: #00d7ff\">None</span>, <span style=\"color: #00af00; text-decoration-color: #00af00\">384</span>)       │          <span style=\"color: #00af00; text-decoration-color: #00af00\">0</span> │ bidirectional[<span style=\"color: #00af00; text-decoration-color: #00af00\">0</span>]… │\n",
       "│ (<span style=\"color: #0087ff; text-decoration-color: #0087ff\">Concatenate</span>)       │                   │            │ bidirectional_1[<span style=\"color: #00af00; text-decoration-color: #00af00\">…</span> │\n",
       "├─────────────────────┼───────────────────┼────────────┼───────────────────┤\n",
       "│ dense (<span style=\"color: #0087ff; text-decoration-color: #0087ff\">Dense</span>)       │ (<span style=\"color: #00d7ff; text-decoration-color: #00d7ff\">None</span>, <span style=\"color: #00af00; text-decoration-color: #00af00\">64</span>)        │     <span style=\"color: #00af00; text-decoration-color: #00af00\">24,640</span> │ concatenate[<span style=\"color: #00af00; text-decoration-color: #00af00\">0</span>][<span style=\"color: #00af00; text-decoration-color: #00af00\">0</span>] │\n",
       "├─────────────────────┼───────────────────┼────────────┼───────────────────┤\n",
       "│ dropout (<span style=\"color: #0087ff; text-decoration-color: #0087ff\">Dropout</span>)   │ (<span style=\"color: #00d7ff; text-decoration-color: #00d7ff\">None</span>, <span style=\"color: #00af00; text-decoration-color: #00af00\">64</span>)        │          <span style=\"color: #00af00; text-decoration-color: #00af00\">0</span> │ dense[<span style=\"color: #00af00; text-decoration-color: #00af00\">0</span>][<span style=\"color: #00af00; text-decoration-color: #00af00\">0</span>]       │\n",
       "├─────────────────────┼───────────────────┼────────────┼───────────────────┤\n",
       "│ dense_1 (<span style=\"color: #0087ff; text-decoration-color: #0087ff\">Dense</span>)     │ (<span style=\"color: #00d7ff; text-decoration-color: #00d7ff\">None</span>, <span style=\"color: #00af00; text-decoration-color: #00af00\">1</span>)         │         <span style=\"color: #00af00; text-decoration-color: #00af00\">65</span> │ dropout[<span style=\"color: #00af00; text-decoration-color: #00af00\">0</span>][<span style=\"color: #00af00; text-decoration-color: #00af00\">0</span>]     │\n",
       "└─────────────────────┴───────────────────┴────────────┴───────────────────┘\n",
       "</pre>\n"
      ],
      "text/plain": [
       "┏━━━━━━━━━━━━━━━━━━━━━┳━━━━━━━━━━━━━━━━━━━┳━━━━━━━━━━━━┳━━━━━━━━━━━━━━━━━━━┓\n",
       "┃\u001b[1m \u001b[0m\u001b[1mLayer (type)       \u001b[0m\u001b[1m \u001b[0m┃\u001b[1m \u001b[0m\u001b[1mOutput Shape     \u001b[0m\u001b[1m \u001b[0m┃\u001b[1m \u001b[0m\u001b[1m   Param #\u001b[0m\u001b[1m \u001b[0m┃\u001b[1m \u001b[0m\u001b[1mConnected to     \u001b[0m\u001b[1m \u001b[0m┃\n",
       "┡━━━━━━━━━━━━━━━━━━━━━╇━━━━━━━━━━━━━━━━━━━╇━━━━━━━━━━━━╇━━━━━━━━━━━━━━━━━━━┩\n",
       "│ input_layer         │ (\u001b[38;5;45mNone\u001b[0m, \u001b[38;5;34m30\u001b[0m)        │          \u001b[38;5;34m0\u001b[0m │ -                 │\n",
       "│ (\u001b[38;5;33mInputLayer\u001b[0m)        │                   │            │                   │\n",
       "├─────────────────────┼───────────────────┼────────────┼───────────────────┤\n",
       "│ input_layer_1       │ (\u001b[38;5;45mNone\u001b[0m, \u001b[38;5;34m500\u001b[0m)       │          \u001b[38;5;34m0\u001b[0m │ -                 │\n",
       "│ (\u001b[38;5;33mInputLayer\u001b[0m)        │                   │            │                   │\n",
       "├─────────────────────┼───────────────────┼────────────┼───────────────────┤\n",
       "│ embedding           │ (\u001b[38;5;45mNone\u001b[0m, \u001b[38;5;34m30\u001b[0m, \u001b[38;5;34m100\u001b[0m)   │  \u001b[38;5;34m1,000,000\u001b[0m │ input_layer[\u001b[38;5;34m0\u001b[0m][\u001b[38;5;34m0\u001b[0m] │\n",
       "│ (\u001b[38;5;33mEmbedding\u001b[0m)         │                   │            │                   │\n",
       "├─────────────────────┼───────────────────┼────────────┼───────────────────┤\n",
       "│ embedding_1         │ (\u001b[38;5;45mNone\u001b[0m, \u001b[38;5;34m500\u001b[0m, \u001b[38;5;34m100\u001b[0m)  │  \u001b[38;5;34m1,000,000\u001b[0m │ input_layer_1[\u001b[38;5;34m0\u001b[0m]… │\n",
       "│ (\u001b[38;5;33mEmbedding\u001b[0m)         │                   │            │                   │\n",
       "├─────────────────────┼───────────────────┼────────────┼───────────────────┤\n",
       "│ bidirectional       │ (\u001b[38;5;45mNone\u001b[0m, \u001b[38;5;34m128\u001b[0m)       │     \u001b[38;5;34m84,480\u001b[0m │ embedding[\u001b[38;5;34m0\u001b[0m][\u001b[38;5;34m0\u001b[0m]   │\n",
       "│ (\u001b[38;5;33mBidirectional\u001b[0m)     │                   │            │                   │\n",
       "├─────────────────────┼───────────────────┼────────────┼───────────────────┤\n",
       "│ bidirectional_1     │ (\u001b[38;5;45mNone\u001b[0m, \u001b[38;5;34m256\u001b[0m)       │    \u001b[38;5;34m234,496\u001b[0m │ embedding_1[\u001b[38;5;34m0\u001b[0m][\u001b[38;5;34m0\u001b[0m] │\n",
       "│ (\u001b[38;5;33mBidirectional\u001b[0m)     │                   │            │                   │\n",
       "├─────────────────────┼───────────────────┼────────────┼───────────────────┤\n",
       "│ concatenate         │ (\u001b[38;5;45mNone\u001b[0m, \u001b[38;5;34m384\u001b[0m)       │          \u001b[38;5;34m0\u001b[0m │ bidirectional[\u001b[38;5;34m0\u001b[0m]… │\n",
       "│ (\u001b[38;5;33mConcatenate\u001b[0m)       │                   │            │ bidirectional_1[\u001b[38;5;34m…\u001b[0m │\n",
       "├─────────────────────┼───────────────────┼────────────┼───────────────────┤\n",
       "│ dense (\u001b[38;5;33mDense\u001b[0m)       │ (\u001b[38;5;45mNone\u001b[0m, \u001b[38;5;34m64\u001b[0m)        │     \u001b[38;5;34m24,640\u001b[0m │ concatenate[\u001b[38;5;34m0\u001b[0m][\u001b[38;5;34m0\u001b[0m] │\n",
       "├─────────────────────┼───────────────────┼────────────┼───────────────────┤\n",
       "│ dropout (\u001b[38;5;33mDropout\u001b[0m)   │ (\u001b[38;5;45mNone\u001b[0m, \u001b[38;5;34m64\u001b[0m)        │          \u001b[38;5;34m0\u001b[0m │ dense[\u001b[38;5;34m0\u001b[0m][\u001b[38;5;34m0\u001b[0m]       │\n",
       "├─────────────────────┼───────────────────┼────────────┼───────────────────┤\n",
       "│ dense_1 (\u001b[38;5;33mDense\u001b[0m)     │ (\u001b[38;5;45mNone\u001b[0m, \u001b[38;5;34m1\u001b[0m)         │         \u001b[38;5;34m65\u001b[0m │ dropout[\u001b[38;5;34m0\u001b[0m][\u001b[38;5;34m0\u001b[0m]     │\n",
       "└─────────────────────┴───────────────────┴────────────┴───────────────────┘\n"
      ]
     },
     "metadata": {},
     "output_type": "display_data"
    },
    {
     "data": {
      "text/html": [
       "<pre style=\"white-space:pre;overflow-x:auto;line-height:normal;font-family:Menlo,'DejaVu Sans Mono',consolas,'Courier New',monospace\"><span style=\"font-weight: bold\"> Total params: </span><span style=\"color: #00af00; text-decoration-color: #00af00\">2,343,681</span> (8.94 MB)\n",
       "</pre>\n"
      ],
      "text/plain": [
       "\u001b[1m Total params: \u001b[0m\u001b[38;5;34m2,343,681\u001b[0m (8.94 MB)\n"
      ]
     },
     "metadata": {},
     "output_type": "display_data"
    },
    {
     "data": {
      "text/html": [
       "<pre style=\"white-space:pre;overflow-x:auto;line-height:normal;font-family:Menlo,'DejaVu Sans Mono',consolas,'Courier New',monospace\"><span style=\"font-weight: bold\"> Trainable params: </span><span style=\"color: #00af00; text-decoration-color: #00af00\">2,343,681</span> (8.94 MB)\n",
       "</pre>\n"
      ],
      "text/plain": [
       "\u001b[1m Trainable params: \u001b[0m\u001b[38;5;34m2,343,681\u001b[0m (8.94 MB)\n"
      ]
     },
     "metadata": {},
     "output_type": "display_data"
    },
    {
     "data": {
      "text/html": [
       "<pre style=\"white-space:pre;overflow-x:auto;line-height:normal;font-family:Menlo,'DejaVu Sans Mono',consolas,'Courier New',monospace\"><span style=\"font-weight: bold\"> Non-trainable params: </span><span style=\"color: #00af00; text-decoration-color: #00af00\">0</span> (0.00 B)\n",
       "</pre>\n"
      ],
      "text/plain": [
       "\u001b[1m Non-trainable params: \u001b[0m\u001b[38;5;34m0\u001b[0m (0.00 B)\n"
      ]
     },
     "metadata": {},
     "output_type": "display_data"
    }
   ],
   "source": [
    "from tensorflow.keras.models import Model\n",
    "from tensorflow.keras.layers import Input, Embedding, Bidirectional, LSTM, Dense, Dropout, Concatenate\n",
    "\n",
    "embedding_dim = 100\n",
    "\n",
    "# Nhánh xử lý title\n",
    "input_title = Input(shape=(max_len_title,))\n",
    "x1 = Embedding(vocab_size, embedding_dim)(input_title)\n",
    "x1 = Bidirectional(LSTM(64))(x1)\n",
    "\n",
    "# Nhánh xử lý content\n",
    "input_content = Input(shape=(max_len_content,))\n",
    "x2 = Embedding(vocab_size, embedding_dim)(input_content)\n",
    "x2 = Bidirectional(LSTM(128))(x2)\n",
    "\n",
    "# Kết hợp hai nhánh\n",
    "combined = Concatenate()([x1, x2])\n",
    "dense = Dense(64, activation='relu')(combined)\n",
    "drop = Dropout(0.5)(dense)\n",
    "output = Dense(1, activation='sigmoid')(drop)\n",
    "\n",
    "# Khởi tạo và compile model\n",
    "model = Model(inputs=[input_title, input_content], outputs=output)\n",
    "model.compile(loss='binary_crossentropy', optimizer='adam', metrics=['accuracy'])\n",
    "\n",
    "model.summary()\n"
   ]
  },
  {
   "cell_type": "code",
   "execution_count": null,
   "id": "4ce0dd87",
   "metadata": {},
   "outputs": [
    {
     "name": "stdout",
     "output_type": "stream",
     "text": [
      "Epoch 1/30\n",
      "\u001b[1m425/425\u001b[0m \u001b[32m━━━━━━━━━━━━━━━━━━━━\u001b[0m\u001b[37m\u001b[0m \u001b[1m322s\u001b[0m 746ms/step - accuracy: 0.9255 - loss: 0.1869 - val_accuracy: 0.9913 - val_loss: 0.0329\n",
      "Epoch 2/30\n",
      "\u001b[1m425/425\u001b[0m \u001b[32m━━━━━━━━━━━━━━━━━━━━\u001b[0m\u001b[37m\u001b[0m \u001b[1m335s\u001b[0m 788ms/step - accuracy: 0.9938 - loss: 0.0240 - val_accuracy: 0.9901 - val_loss: 0.0330\n",
      "Epoch 3/30\n",
      "\u001b[1m425/425\u001b[0m \u001b[32m━━━━━━━━━━━━━━━━━━━━\u001b[0m\u001b[37m\u001b[0m \u001b[1m372s\u001b[0m 876ms/step - accuracy: 0.9966 - loss: 0.0138 - val_accuracy: 0.9882 - val_loss: 0.0426\n",
      "Epoch 4/30\n",
      "\u001b[1m425/425\u001b[0m \u001b[32m━━━━━━━━━━━━━━━━━━━━\u001b[0m\u001b[37m\u001b[0m \u001b[1m377s\u001b[0m 887ms/step - accuracy: 0.9984 - loss: 0.0056 - val_accuracy: 0.9856 - val_loss: 0.0604\n",
      "Epoch 5/30\n",
      "\u001b[1m425/425\u001b[0m \u001b[32m━━━━━━━━━━━━━━━━━━━━\u001b[0m\u001b[37m\u001b[0m \u001b[1m382s\u001b[0m 900ms/step - accuracy: 0.9991 - loss: 0.0032 - val_accuracy: 0.9897 - val_loss: 0.0451\n",
      "Epoch 6/30\n",
      "\u001b[1m425/425\u001b[0m \u001b[32m━━━━━━━━━━━━━━━━━━━━\u001b[0m\u001b[37m\u001b[0m \u001b[1m369s\u001b[0m 869ms/step - accuracy: 0.9997 - loss: 9.6692e-04 - val_accuracy: 0.9896 - val_loss: 0.0509\n"
     ]
    }
   ],
   "source": [
    "from tensorflow.keras.callbacks import EarlyStopping, ModelCheckpoint\n",
    "\n",
    "callbacks = [\n",
    "    EarlyStopping(monitor='val_accuracy', patience=5, restore_best_weights=True),\n",
    "    ModelCheckpoint('best_bilstm_model.keras', monitor='val_accuracy', save_best_only=True)\n",
    "]\n",
    "\n",
    "history = model.fit(\n",
    "    [X_title_train, X_content_train], y_train,\n",
    "    validation_data=([X_title_val, X_content_val], y_val),\n",
    "    epochs=30,\n",
    "    batch_size=64,\n",
    "    callbacks=callbacks\n",
    ")\n"
   ]
  },
  {
   "cell_type": "code",
   "execution_count": 5,
   "id": "e0667d59",
   "metadata": {},
   "outputs": [
    {
     "data": {
      "image/png": "[encoded data removed]",
      "text/plain": [
       "<Figure size 640x480 with 1 Axes>"
      ]
     },
     "metadata": {},
     "output_type": "display_data"
    }
   ],
   "source": [
    "import matplotlib.pyplot as plt\n",
    "\n",
    "plt.plot(history.history['accuracy'], label='Training Accuracy')\n",
    "plt.plot(history.history['val_accuracy'], label='Validation Accuracy')\n",
    "plt.title('BiLSTM Accuracy vs Validation Accuracy')\n",
    "plt.xlabel('Epochs')\n",
    "plt.ylabel('Accuracy')\n",
    "plt.legend()\n",
    "plt.grid(True)\n",
    "plt.show()\n"
   ]
  },
  {
   "cell_type": "code",
   "execution_count": 6,
   "id": "d1ba50de",
   "metadata": {},
   "outputs": [],
   "source": [
    "import pickle\n",
    "\n",
    "# Lưu tokenizer\n",
    "with open('tokenizer.pkl', 'wb') as f:\n",
    "    pickle.dump(tokenizer, f)"
   ]
  },
  {
   "cell_type": "code",
   "execution_count": 10,
   "id": "6ff02ca8",
   "metadata": {},
   "outputs": [],
   "source": [
    "from tensorflow.keras.models import load_model\n",
    "\n",
    "model = load_model('best_bilstm_model.keras')\n",
    "with open('tokenizer.pkl', 'rb') as f:\n",
    "    tokenizer = pickle.load(f)\n",
    "\n",
    "def predict(sample_title, sample_content):\n",
    "    seq_title = tokenizer.texts_to_sequences([sample_title])\n",
    "    seq_content = tokenizer.texts_to_sequences([sample_content])\n",
    "\n",
    "    pad_title = pad_sequences(seq_title, maxlen=max_len_title)\n",
    "    pad_content = pad_sequences(seq_content, maxlen=max_len_content)\n",
    "\n",
    "    prediction = model.predict([pad_title, pad_content])\n",
    "    label = int(prediction[0][0] > 0.5)\n",
    "\n",
    "    print(f\"Xác suất tin thật: {prediction[0][0]:.4f}\")\n",
    "    print(\"Dự đoán:\", \"FAKE\" if label == 0 else \"REAL\")\n"
   ]
  },
  {
   "cell_type": "code",
   "execution_count": null,
   "id": "256f42f8",
   "metadata": {},
   "outputs": [
    {
     "name": "stdout",
     "output_type": "stream",
     "text": [
      "\u001b[1m1/1\u001b[0m \u001b[32m━━━━━━━━━━━━━━━━━━━━\u001b[0m\u001b[37m\u001b[0m \u001b[1m0s\u001b[0m 453ms/step\n",
      "Xác suất tin thật: 0.9750\n",
      "Dự đoán: REAL\n"
     ]
    }
   ],
   "source": [
    "sample_title = \"Trung ương thống nhất sáp nhập còn 34 tỉnh, thành, giảm 60-70 xã\"\n",
    "sample_content = \"\"\"\n",
    "Ban Chấp hành Trung ương thống nhất đơn vị hành chính cấp tỉnh sau sáp nhập là 34 tỉnh, thành phố (28 tỉnh và 6 thành phố trực thuộc Trung ương), giảm khoảng 60-70% số lượng đơn vị hành chính cấp xã.\n",
    "Chiều 12/4, tại Trụ sở Trung ương Đảng, Hội nghị lần thứ 11 Ban Chấp hành Trung ương Đảng khóa 13 bế mạc. \n",
    "\n",
    "Phát biểu bế mạc, Tổng Bí thư Tô Lâm cho biết, sau 3 ngày làm việc khẩn trương, với tinh thần trách nhiệm cao, các ủy viên Trung ương đã thảo luận hết sức dân chủ, lắng nghe, trao đổi thẳng thắn nhiều vấn đề mới, hệ trọng và thống nhất rất cao những nội dung quan trọng, cốt lõi.\n",
    "\n",
    "Ban chấp hành Trung ương đã biểu quyết thông qua Nghị quyết hội nghị với tỷ lệ tuyệt đối.\n",
    "Tổng Bí thư cho biết, Hội nghị Trung ương 11 khoá 13 đã hoàn thành toàn bộ nội dung, chương trình đề ra.\n",
    "\n",
    "\"Rất nhiều đồng chí Trung ương đề nghị Bộ Chính trị ghi nhận đây là hội nghị lịch sử, bàn về những quyết sách lịch sử trong giai đoạn Cách mạng mới của nước ta\", Tổng Bí thư chia sẻ.\n",
    "Thay mặt Bộ Chính trị, Ban Bí thư, Tổng Bí thư ghi nhận, đánh giá cao, biểu dương tinh thần làm việc tích cực, trách nhiệm, chủ động, khoa học, sáng tạo, quyết đoán, hiệu quả, đổi mới của Trung ương; công tác chuẩn bị và phục vụ Hội nghị chu đáo, kỹ lưỡng, trọng tâm, trọng điểm, có nhiều cải tiến của các Tiểu ban, của Văn phòng Trung ương Đảng và các cơ quan liên quan. \n",
    "\n",
    "Thống nhất cả nước còn 28 tỉnh và 6 thành phố trực thuộc Trung ương\n",
    "\n",
    "Ban Chấp hành Trung ương thống nhất cao nội dung đề xuất nêu tại các tờ trình, báo cáo, đề án thuộc nhóm công việc về tiếp tục sắp xếp tổ chức bộ máy của hệ thống chính trị, sắp xếp đơn vị hành chính và tổ chức chính quyền địa phương 2 cấp.\n",
    "\n",
    "Trong đó, Tổng Bí thư nêu rõ, \"Ban Chấp hành Trung ương nhấn mạnh: Việc tiếp tục sắp xếp tổ chức bộ máy của hệ thống chính trị là quyết sách chiến lược chưa từng có với mục tiêu cao nhất vì sự phát triển nhanh, ổn định, bền vững của đất nước, chăm lo tốt hơn đời sống của nhân dân\".\n",
    "\n",
    "Xây dựng bộ máy chính quyền tinh gọn, chuyển từ quản lý thụ động sang chủ động phục vụ nhân dân, kiến tạo phát triển, đủ năng lực tổ chức triển khai có hiệu quả các chủ trương của Đảng vào thực tiễn cuộc sống trong kỷ nguyên phát triển và thịnh vượng.\n",
    "\n",
    "Việc sắp xếp đơn vị hành chính địa phương lần này được xây dựng trên tinh thần khoa học, đột phá, sáng tạo, bám sát thực tiễn với tầm nhìn xa, trông rộng, ít nhất là 100 năm, bảo đảm hình thành và mở rộng không gian phát triển kinh tế, xã hội, văn hóa mới phù hợp cho phát triển đất nước.\n",
    "\n",
    "Chính quyền địa phương sau sắp xếp phải bảo đảm tinh gọn, hiệu quả, gần dân, đáp ứng các yêu cầu quản trị xã hội hiện đại, thực hiện được các mục tiêu tăng trưởng nhanh, bền vững. Ngoài ra, tạo thế và lực mới cho nhiệm vụ đảm bảo quốc phòng, an ninh, đối ngoại; tạo đà và động lực cho phát triển kinh tế, trong đó chú trọng thúc đẩy kinh tế tư nhân; đẩy nhanh phát triển khoa học công nghệ và đổi mới sáng tạo; chăm lo ngày một tốt hơn đời sống vật chất, tinh thần của nhân dân.\n",
    "\n",
    "Việc sắp xếp lại mô hình, tổ chức MTTQ Việt Nam và các tổ chức chính trị - xã hội, các hội quần chúng được Đảng, Nhà nước giao nhiệm vụ phải thực sự tinh gọn, bảo đảm không trùng lắp, chồng chéo về chức năng, nhiệm vụ.\n",
    "\n",
    "Tổng Bí thư khẳng định, việc sắp xếp sẽ không hành chính hoá hoạt động, hướng mạnh về địa bàn dân cư, gần dân, sát dân, phục vụ nhân dân theo tinh thần “chú trọng và thực hành dân làm gốc”, phải thực sự là “cánh tay nối dài” của Đảng đến từng hộ gia đình, từng người dân; phải chăm lo quyền, lợi ích hợp pháp, chính đáng của các đoàn viên, hội viên và của nhân dân.\n",
    "\n",
    "Thực hiện nghiêm nguyên tắc Đảng thống nhất lãnh đạo xây dựng tổ chức bộ máy, công tác cán bộ, quản lý đội ngũ cán bộ và biên chế của hệ thống chính trị. Tiếp tục đổi mới, hoàn thiện và thực hiện đồng bộ, chặt chẽ các quy định về công tác cán bộ ở các cấp, các ngành, địa phương theo nguyên tắc công khai, minh bạch, tăng cường kiểm soát quyền lực, gắn quyền lực với trách nhiệm cá nhân.\n",
    "\n",
    "Nhận diện, có biện pháp phòng ngừa, kiên quyết đấu tranh xử lý nghiêm các hành vi tham nhũng, lãng phí, tiêu cực, gây mất đoàn kết, chạy chức chạy quyền, cục bộ bè phái trong quá trình sắp xếp tổ chức bộ máy, xử lý tài sản công…\n",
    "\n",
    "Ban Chấp hành Trung ương thống nhất cao các chủ trương: về tổ chức chính quyền địa phương 2 cấp: cấp Tỉnh (Tỉnh, Thành phố trực thuộc Trung ương), cấp Xã (Xã, Phường, Đặc khu trực thuộc tỉnh, thành phố).\n",
    "\n",
    "Số lượng đơn vị hành chính cấp tỉnh sau sáp nhập là 34 tỉnh, thành phố (28 tỉnh và 6 thành phố trực thuộc Trung ương) với tên gọi và trung tâm hành chính - chính trị xác định theo các nguyên tắc nêu tại các tờ trình và đề án.\n",
    "\n",
    "Kết thúc hoạt động của đơn vị hành chính cấp huyện sau khi Quốc Hội quyết nghị sửa đổi, bổ sung một số điều của Hiến pháp năm 2013 và Luật Tổ chức chính quyền địa phương năm 2025 (sửa đổi).\n",
    "\n",
    "Sáp nhập đơn vị hành chính cấp xã bảo đảm cả nước giảm khoảng 60-70 số lượng đơn vị hành chính cấp xã hiện nay.\n",
    "\n",
    "Ban Chấp hành Trung ương đồng ý chủ trương lập tổ chức đảng ở địa phương tương ứng với hệ thống hành chính cấp tỉnh, cấp xã; kết thúc hoạt động của các đảng bộ cấp huyện; việc lập tổ chức đảng ở địa phương thực hiện theo đúng Điều lệ Đảng, quy định của Trung ương.\n",
    "\n",
    "Phân nhiều quyền hơn cho cấp xã\n",
    "\n",
    "Với mô hình tổ chức hành chính mới, cấp tỉnh vừa là cấp thực hiện chủ trương, chính sách từ Trung ương, vừa là cấp ban hành chính sách trên địa bàn tỉnh, thành phố và trực tiếp chỉ đạo, quản lý các hoạt động của cấp xã trên địa bàn.\n",
    "\n",
    "Cấp xã chủ yếu là thực hiện chính sách từ cấp Trung ương và cấp tỉnh ban hành. Cấp xã cũng được tăng cường phân cấp phân quyền và có thẩm quyền ban hành văn bản qui phạm pháp luật để quyết định việc tổ chức thi hành pháp luật trên địa bàn và quyết định các vấn đề thuộc thẩm quyền của cấp mình.\n",
    "Ban Chấp hành Trung ương thống nhất chủ trương sắp xếp, tinh gọn, hợp nhất cơ quan MTTQ Việt Nam, các tổ chức chính trị - xã hội, các hội quần chúng do Đảng, Nhà nước giao nhiệm vụ ở cấp Trung ương, cấp tỉnh và cấp xã nêu tại tờ trình và đề án của Đảng ủy MTTQ Việt Nam, các đoàn thể Trung ương; chủ trương kết thúc hoạt động của công đoàn viên chức, công đoàn lực lượng vũ trang, giảm mức đóng góp công đoàn phí của cán bộ, công chức, viên chức và người lao động.\n",
    "\n",
    "Ban Chấp hành Trung ương đồng ý chủ trương tiếp tục sắp xếp, tinh gọn bộ máy TAND, Viện KSND; kết thúc hoạt động của TAND, Viện VKSND cấp cao và cấp huyện; xác lập hệ thống tổ chức TAND, Viện KSND có 3 cấp. Đó là: TAND và Viện KSND tối cao; TAND và VKSND cấp tỉnh, thành phố trực thuộc Trung ương và khu vực (hệ thống tòa án và viện kiểm sát quân sự giữ nguyên mô hình hiện nay).\n",
    "\"\"\"\n",
    "predict(sample_title, sample_content)"
   ]
  },
  {
   "cell_type": "code",
   "execution_count": null,
   "id": "238df920",
   "metadata": {},
   "outputs": [
    {
     "name": "stdout",
     "output_type": "stream",
     "text": [
      "\u001b[1m1/1\u001b[0m \u001b[32m━━━━━━━━━━━━━━━━━━━━\u001b[0m\u001b[37m\u001b[0m \u001b[1m0s\u001b[0m 53ms/step\n",
      "Xác suất tin thật: 0.0065\n",
      "Dự đoán: FAKE\n"
     ]
    }
   ],
   "source": [
    "sample_title = \"Sốc: Sơn Tùng bị fan cuồng lao thẳng vào người khi đang trên sân khấu, để lộ vết xước gây xót xa\"\n",
    "sample_content = \"\"\"\n",
    "Sơn Tùng M-TP khiến nhiều khán giả thót tim với sự cố trong đêm nhạc mới đây.\n",
    "Đại nhạc hội có Sơn Tùng M-TP ế vé, dân mạng bóc loạt vấn đề - người ảnh hưởng nhất là nghệ sĩ! \n",
    "Phản ứng của Sơn Tùng M-TP khi nghe ca khúc gây tranh cãi của MONO \n",
    "Lý do Hoà Minzy khó lật đổ kỷ lục của Sơn Tùng M-TP \n",
    "Tối 12/4, sự kiện âm nhạc diễn ra tại Hạ Long, Quảng Ninh quy tụ nhiều nghệ sĩ đình đám showbiz như Sơn Tùng M-TP, Isaac, Hoàng Dũng, Orange đã chính thức diễn ra. Đặc biệt một trong những màn trình diễn được chờ đợi nhất đó chính sự xuất hiện của Sơn Tùng M-TP. Xuyên suốt hơn 1 tiếng đồng hồ, nam ca sĩ đã mang đến loạt 9 bản hit trong sự nghiệp và khiến hàng chục nghìn khán giả có mặt không ngừng phấn khích. Tuy nhiên, một sự cố đã xảy ra khiến toàn bộ khán giả \"thót tim\". \n",
    "\n",
    "Clip sự cố của Sơn Tùng M-TP tại đêm nhạc (nguồn: lamnhim27)\n",
    "\n",
    "Cụ thể, khi gần khép lại chương trình, một khán giả đã bất ngờ lao thẳng lên sân khấu và ôm chầm Sơn Tùng M-TP khiến nam ca sĩ không giấu được sự hoảng hốt. Fan cuồng này còn quá khích đến mức liên tục nhảy lên người, ôm chặt làm toàn bộ khán giả \"đứng tim\" vì tình huống nguy hiểm xảy ra quá nhanh. Dù ngay sau đó, vệ sĩ đã nhanh chóng có mặt nhưng Sơn Tùng M-TP đã bị cào xước dài ở tay. \n",
    "Đây không phải lần đầu tiên Sơn Tùng M-TP gặp tình huống bị khán giả lao lên sân khấu nhưng là lần đầu tiên những người có mặt cảm nhận được rõ sự nguy hiểm của tình huống này. Cộng đồng mạng cho rằng nếu như đây không phải là fan cuồng quá khích mà là một người có ý đồ xấu thì không biết hậu quả sẽ nặng nề như thế nào. Mặt khác, Sơn Tùng M-TP luôn là nam ca sĩ được bảo vệ một cách nghiêm ngặt từ lực lượng bảo an nhưng việc liên tục gặp phải những tình huống liên tục khiến người hâm mộ chân chính không khỏi lo lắng. \n",
    "\"\"\"\n",
    "predict(sample_title, sample_content)"
   ]
  }
 ],
 "metadata": {
  "kernelspec": {
   "display_name": "Python 3",
   "language": "python",
   "name": "python3"
  },
  "language_info": {
   "codemirror_mode": {
    "name": "ipython",
    "version": 3
   },
   "file_extension": ".py",
   "mimetype": "text/x-python",
   "name": "python",
   "nbconvert_exporter": "python",
   "pygments_lexer": "ipython3",
   "version": "3.10.11"
  }
 },
 "nbformat": 4,
 "nbformat_minor": 5
}
